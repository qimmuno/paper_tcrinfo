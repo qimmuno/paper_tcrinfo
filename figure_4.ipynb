{
 "cells": [
  {
   "cell_type": "markdown",
   "metadata": {},
   "source": [
    "# Information retained via CDR3 compression schemes"
   ]
  },
  {
   "cell_type": "code",
   "execution_count": 1,
   "metadata": {},
   "outputs": [
    {
     "name": "stderr",
     "output_type": "stream",
     "text": [
      "Matplotlib is building the font cache; this may take a moment.\n",
      "/Users/james/Documents/Projects/TCR-info 2022/paper_tcrinfo/venv/lib/python3.10/site-packages/tqdm/auto.py:21: TqdmWarning: IProgress not found. Please update jupyter and ipywidgets. See https://ipywidgets.readthedocs.io/en/stable/user_install.html\n",
      "  from .autonotebook import tqdm as notebook_tqdm\n"
     ]
    }
   ],
   "source": [
    "import pandas as pd\n",
    "import numpy as np\n",
    "import pyrepseq as prs\n",
    "import matplotlib.pyplot as plt\n",
    "import matplotlib as mpl\n",
    "import seaborn as sns\n",
    "\n",
    "import pepdata.amino_acid_properties as aap\n",
    "import pepdata.reduced_alphabet as ra\n",
    "from aaindex import aaindex1\n",
    "\n",
    "import scipy.cluster.hierarchy as sch\n",
    "from scipy.spatial.distance import pdist\n",
    "\n",
    "sns.set_theme()\n",
    "sns.set_style(\"ticks\")\n",
    "\n",
    "from src import *\n",
    "\n",
    "mpl.rcParams['axes.spines.right'] = False\n",
    "mpl.rcParams['axes.spines.top'] = False\n",
    "mpl.rcParams['text.usetex'] = True\n",
    "plt.rcParams['axes.labelsize'] = 16\n",
    "plt.rcParams['axes.titlesize'] = 16\n",
    "mpl.rcParams['font.family'] = 'serif'\n",
    "mpl.rcParams['axes.labelsize'] = 18\n",
    "mpl.rcParams['xtick.labelsize'] = 18\n",
    "mpl.rcParams['ytick.labelsize'] = 18\n",
    "mpl.rcParams['legend.fontsize'] = 20"
   ]
  },
  {
   "cell_type": "code",
   "execution_count": 2,
   "metadata": {},
   "outputs": [],
   "source": [
    "olga = pd.read_csv('data/olga.csv.gz',sep=',').astype(str)\n",
    "spc = pd.read_csv('data/spc.csv.gz',sep=',').astype(str)\n",
    "epitope_meta = pd.read_csv('data/epitope_meta.csv.gz',sep=',')"
   ]
  },
  {
   "cell_type": "code",
   "execution_count": 3,
   "metadata": {},
   "outputs": [],
   "source": [
    "aminoacids = 'ACDEFGHIKLMNPQRSTVWY'\n",
    "three_letter_codes = ['Ala','Cys','Asp','Glu','Phe','Gly','His','Ile','Lys','Leu','Met','Asn','Pro','Gln','Arg','Ser','Thr','Val','Trp','Tyr']"
   ]
  },
  {
   "cell_type": "markdown",
   "metadata": {},
   "source": [
    "## Representing the CDR3 as a bag of words vector"
   ]
  },
  {
   "cell_type": "code",
   "execution_count": 4,
   "metadata": {},
   "outputs": [],
   "source": [
    "def get_aa_content(sequence, aa):\n",
    "    \n",
    "    content = 0\n",
    "    for amino_acid in sequence:\n",
    "        if amino_acid == aa:\n",
    "            content += 1\n",
    "    return str(content)\n",
    "\n",
    "def make_bow_vectors(df, three_letter_codes):\n",
    "    \n",
    "    alpha_vector = \"\"\n",
    "    beta_vector = \"\"\n",
    "    for i, aminoacid in enumerate(three_letter_codes):\n",
    "        if i < len(three_letter_codes)-1:\n",
    "            alpha_vector += df[f\"CDR3A_{aminoacid}_content\"] + \",\"\n",
    "            beta_vector += df[f\"CDR3B_{aminoacid}_content\"] + \",\"\n",
    "        else:\n",
    "            alpha_vector += df[f\"CDR3A_{aminoacid}_content\"]\n",
    "            beta_vector += df[f\"CDR3B_{aminoacid}_content\"]\n",
    "                 \n",
    "    return alpha_vector, beta_vector"
   ]
  },
  {
   "cell_type": "code",
   "execution_count": 5,
   "metadata": {},
   "outputs": [],
   "source": [
    "for i, aminoacid in enumerate(aminoacids):\n",
    "    olga[f'CDR3B_{three_letter_codes[i]}_content'] = olga['CDR3B'].apply(lambda x: get_aa_content(x, aminoacid))\n",
    "    olga[f'CDR3A_{three_letter_codes[i]}_content'] = olga['CDR3A'].apply(lambda x: get_aa_content(x, aminoacid))\n",
    "    spc[f'CDR3B_{three_letter_codes[i]}_content'] = spc['CDR3B'].apply(lambda x: get_aa_content(x, aminoacid))\n",
    "    spc[f'CDR3A_{three_letter_codes[i]}_content'] = spc['CDR3A'].apply(lambda x: get_aa_content(x, aminoacid))"
   ]
  },
  {
   "cell_type": "code",
   "execution_count": 6,
   "metadata": {},
   "outputs": [],
   "source": [
    "olga['CDR3A_content_vector'], olga['CDR3B_content_vector'] = make_bow_vectors(olga, three_letter_codes)\n",
    "spc['CDR3A_content_vector'], spc['CDR3B_content_vector'] = make_bow_vectors(spc, three_letter_codes)"
   ]
  },
  {
   "cell_type": "code",
   "execution_count": 7,
   "metadata": {},
   "outputs": [],
   "source": [
    "alpha_beta_grid = np.zeros((2,2))\n",
    "alpha_beta_grid[0 ,1] = alpha_beta_grid[1 ,0] = prs.renyi2_entropy(olga, 'CDR3A_content_vector')  + prs.renyi2_entropy(olga, 'CDR3B_content_vector') - prs.renyi2_entropy(spc, ['CDR3A_content_vector', 'CDR3B_content_vector'], \"Epitope\")\n",
    "alpha_beta_grid[0 ,0] = prs.renyi2_entropy(olga, 'CDR3A_content_vector') - prs.renyi2_entropy(spc, 'CDR3A_content_vector', \"Epitope\")\n",
    "alpha_beta_grid[1 ,1] = prs.renyi2_entropy(olga, 'CDR3B_content_vector') - prs.renyi2_entropy(spc, 'CDR3B_content_vector', \"Epitope\")"
   ]
  },
  {
   "cell_type": "code",
   "execution_count": 8,
   "metadata": {},
   "outputs": [],
   "source": [
    "cdr3_info = prs.renyi2_entropy(olga, \"CDR3A\")  + prs.renyi2_entropy(olga, \"CDR3B\") - prs.renyi2_entropy(spc, [\"CDR3A\", \"CDR3B\"], \"Epitope\")\n",
    "cdr3a_info = prs.renyi2_entropy(olga,  \"CDR3A\") - prs.renyi2_entropy(spc,  \"CDR3A\", \"Epitope\")\n",
    "cdr3b_info = prs.renyi2_entropy(olga,  \"CDR3B\") - prs.renyi2_entropy(spc,  \"CDR3B\", \"Epitope\")"
   ]
  },
  {
   "cell_type": "markdown",
   "metadata": {},
   "source": [
    "## Finding the optimal 2 letter alphabet"
   ]
  },
  {
   "cell_type": "code",
   "execution_count": 9,
   "metadata": {},
   "outputs": [],
   "source": [
    "def evaluate_translation(translation, spc, back):\n",
    "    \n",
    "    translation_table = str.maketrans(translation)\n",
    "    \n",
    "    back['translation_alpha'] = back['CDR3A'].apply(lambda x: x.translate(translation_table))\n",
    "    back['translation_beta'] = back['CDR3B'].apply(lambda x: x.translate(translation_table))\n",
    "    spc['translation_full'] = spc['CDR3A'].apply(lambda x: x.translate(translation_table)) + \"_\" + spc['CDR3B'].apply(lambda x: x.translate(translation_table))\n",
    "    \n",
    "    return prs.renyi2_entropy(back, 'translation_alpha') + prs.renyi2_entropy(back, 'translation_beta') - prs.renyi2_entropy(spc, 'translation_full', 'Epitope')"
   ]
  },
  {
   "cell_type": "code",
   "execution_count": 10,
   "metadata": {},
   "outputs": [],
   "source": [
    "def make_translation_from_list(aa_to_be_one):\n",
    "    \n",
    "    return {aa: '1' if aa in aa_to_be_one else '0' for aa in aminoacids}"
   ]
  },
  {
   "cell_type": "code",
   "execution_count": 11,
   "metadata": {},
   "outputs": [],
   "source": [
    "def greedy_algorithm():\n",
    "    \n",
    "    best_amino_acids_to_be_one = []\n",
    "    best_score = -np.inf\n",
    "    for i in range(20):\n",
    "        best_amino_acid_to_be_one = \"\"\n",
    "        best_local_score = -np.inf\n",
    "        for aa in aminoacids:\n",
    "            if aa not in best_amino_acids_to_be_one:\n",
    "                list_to_try = best_amino_acids_to_be_one.copy()\n",
    "                list_to_try.append(aa)\n",
    "                translation = make_translation_from_list(list_to_try)\n",
    "                score = evaluate_translation(translation, spc, olga)\n",
    "                \n",
    "                if score > best_local_score:\n",
    "                    best_amino_acid_to_be_one = aa\n",
    "                    best_local_score = score\n",
    "        \n",
    "        if best_local_score <= best_score:\n",
    "            print(\"Locally optimal set found\")\n",
    "            return best_amino_acids_to_be_one, best_score\n",
    "        \n",
    "        else:\n",
    "            print(f\"Improvement found, new score: {best_local_score:.1f} bits\")\n",
    "            best_score = best_local_score\n",
    "            best_amino_acids_to_be_one.append(best_amino_acid_to_be_one)\n",
    "            \n",
    "    return best_amino_acids_to_be_one, best_score"
   ]
  },
  {
   "cell_type": "code",
   "execution_count": 12,
   "metadata": {},
   "outputs": [
    {
     "name": "stdout",
     "output_type": "stream",
     "text": [
      "Improvement found, new score: 7.8 bits\n",
      "Improvement found, new score: 10.5 bits\n",
      "Improvement found, new score: 12.6 bits\n",
      "Improvement found, new score: 14.2 bits\n",
      "Improvement found, new score: 15.0 bits\n",
      "Improvement found, new score: 15.4 bits\n",
      "Improvement found, new score: 15.5 bits\n",
      "Improvement found, new score: 15.5 bits\n",
      "Locally optimal set found\n"
     ]
    }
   ],
   "source": [
    "best, score = greedy_algorithm()"
   ]
  },
  {
   "cell_type": "code",
   "execution_count": 13,
   "metadata": {},
   "outputs": [
    {
     "data": {
      "text/plain": [
       "(['G', 'S', 'Y', 'A', 'E', 'K', 'I', 'W'],\n",
       " ['C', 'D', 'F', 'H', 'L', 'M', 'N', 'P', 'Q', 'R', 'T', 'V'],\n",
       " np.float64(15.490726127510566))"
      ]
     },
     "execution_count": 13,
     "metadata": {},
     "output_type": "execute_result"
    }
   ],
   "source": [
    "best, [aa for aa in aminoacids if aa not in best], score"
   ]
  },
  {
   "cell_type": "code",
   "execution_count": 14,
   "metadata": {},
   "outputs": [],
   "source": [
    "optimal_2 = make_translation_from_list(best)"
   ]
  },
  {
   "cell_type": "markdown",
   "metadata": {},
   "source": [
    "## Evaluating reduced alphabets from the literature"
   ]
  },
  {
   "cell_type": "code",
   "execution_count": 15,
   "metadata": {},
   "outputs": [],
   "source": [
    "murphy_4 = {\"L\": \"L\",\n",
    "             \"V\": \"L\",\n",
    "             \"I\": \"L\",\n",
    "             \"M\": \"L\",\n",
    "             \"C\": \"L\",\n",
    "             \"A\": \"A\",\n",
    "             \"G\": \"A\",\n",
    "             \"S\": \"A\",\n",
    "             \"T\": \"A\",\n",
    "             \"P\": \"A\",\n",
    "             \"F\": \"F\",\n",
    "             \"Y\": \"F\",\n",
    "             \"W\": \"F\",\n",
    "             \"E\": \"E\",\n",
    "             \"D\": \"E\",\n",
    "             \"N\": \"E\",\n",
    "             \"Q\": \"E\",\n",
    "             \"K\": \"E\",\n",
    "             \"R\": \"E\",\n",
    "             \"H\": \"E\"}\n",
    "gbmr4 = ra.gbmr4\n",
    "pc_5 = {\"I\": \"A\", # Aliphatic\n",
    "         \"V\": \"A\",\n",
    "         \"L\": \"A\",\n",
    "         \"F\": \"R\", # Aromatic\n",
    "         \"Y\": \"R\",\n",
    "         \"W\": \"R\",\n",
    "         \"H\": \"R\",\n",
    "         \"K\": \"C\", # Charged\n",
    "         \"R\": \"C\",\n",
    "         \"D\": \"C\",\n",
    "         \"E\": \"C\",\n",
    "         \"G\": \"T\", # Tiny\n",
    "         \"A\": \"T\",\n",
    "         \"C\": \"T\",\n",
    "         \"S\": \"T\",\n",
    "         \"T\": \"D\", # Diverse\n",
    "         \"M\": \"D\",\n",
    "         \"Q\": \"D\",\n",
    "         \"N\": \"D\",\n",
    "         \"P\": \"D\"}\n",
    "murphy_8 = {\"L\": \"L\",\n",
    "             \"V\": \"L\",\n",
    "             \"I\": \"L\",\n",
    "             \"M\": \"L\",\n",
    "             \"C\": \"L\",\n",
    "             \"A\": \"A\",\n",
    "             \"G\": \"A\",\n",
    "             \"S\": \"S\",\n",
    "             \"T\": \"S\",\n",
    "             \"P\": \"P\",\n",
    "             \"F\": \"F\",\n",
    "             \"Y\": \"F\",\n",
    "             \"W\": \"F\",\n",
    "             \"E\": \"E\",\n",
    "             \"D\": \"E\",\n",
    "             \"N\": \"E\",\n",
    "             \"Q\": \"E\",\n",
    "             \"K\": \"K\",\n",
    "             \"R\": \"K\",\n",
    "             \"H\": \"H\"}\n",
    "murphy10 = {\"L\": \"L\",\n",
    "             \"V\": \"L\",\n",
    "             \"I\": \"L\",\n",
    "             \"M\": \"L\",\n",
    "             \"C\": \"C\",\n",
    "             \"A\": \"A\",\n",
    "             \"G\": \"G\",\n",
    "             \"S\": \"S\",\n",
    "             \"T\": \"S\",\n",
    "             \"P\": \"P\",\n",
    "             \"F\": \"F\",\n",
    "             \"Y\": \"F\",\n",
    "             \"W\": \"F\",\n",
    "             \"E\": \"E\",\n",
    "             \"D\": \"E\",\n",
    "             \"N\": \"E\",\n",
    "             \"Q\": \"E\",\n",
    "             \"K\": \"K\",\n",
    "             \"R\": \"K\",\n",
    "             \"H\": \"H\"}\n",
    "sdm12 = ra.sdm12\n",
    "murphy15  = {\"L\": \"L\",\n",
    "             \"V\": \"L\",\n",
    "             \"I\": \"L\",\n",
    "             \"M\": \"L\",\n",
    "             \"C\": \"C\",\n",
    "             \"A\": \"A\",\n",
    "             \"G\": \"G\",\n",
    "             \"S\": \"S\",\n",
    "             \"T\": \"T\",\n",
    "             \"P\": \"P\",\n",
    "             \"F\": \"F\",\n",
    "             \"Y\": \"F\",\n",
    "             \"W\": \"W\",\n",
    "             \"E\": \"E\",\n",
    "             \"D\": \"D\",\n",
    "             \"N\": \"N\",\n",
    "             \"Q\": \"Q\",\n",
    "             \"K\": \"K\",\n",
    "             \"R\": \"K\",\n",
    "             \"H\": \"H\"}\n",
    "hsdm17 = ra.hsdm17\n",
    "full = {aa:aa for aa in aminoacids}"
   ]
  },
  {
   "cell_type": "code",
   "execution_count": 16,
   "metadata": {},
   "outputs": [
    {
     "data": {
      "text/plain": [
       "{'gbmr \\n 4': np.float64(17.73663898500851),\n",
       " 'murphy \\n 4': np.float64(19.557829432918332),\n",
       " 'pc \\n 5': np.float64(22.72837203672409),\n",
       " 'murphy \\n 8': np.float64(25.16008673364675),\n",
       " 'murphy \\n 10': np.float64(26.367895026275193),\n",
       " 'sdm \\n 12': np.float64(26.603805920507867),\n",
       " 'murphy \\n 15': np.float64(28.538248015773966),\n",
       " 'hsdm \\n 17': np.float64(29.170009146392225),\n",
       " 'full \\n 20': np.float64(29.80133002138598)}"
      ]
     },
     "execution_count": 16,
     "metadata": {},
     "output_type": "execute_result"
    }
   ],
   "source": [
    "translations = {'gbmr \\n 4': gbmr4, 'murphy \\n 4': murphy_4, \"pc \\n 5\": pc_5,\n",
    "              'murphy \\n 8': murphy_8, 'murphy \\n 10': murphy10, 'sdm \\n 12': sdm12,\n",
    "              'murphy \\n 15': murphy15, 'hsdm \\n 17': hsdm17, 'full \\n 20': full}\n",
    "\n",
    "translation_scores = {}\n",
    "for name, translation in translations.items():\n",
    "    translation_scores[name] = evaluate_translation(translation, spc, olga)\n",
    "    \n",
    "translation_scores"
   ]
  },
  {
   "cell_type": "markdown",
   "metadata": {},
   "source": [
    "## Reduced alphabets obtained via clustering with respect to biophysical properties"
   ]
  },
  {
   "cell_type": "code",
   "execution_count": 17,
   "metadata": {},
   "outputs": [],
   "source": [
    "properties_df = pd.DataFrame()\n",
    "properties_df['Retention coefficient in TFA'] = aaindex1['BROC820101']['values']\n",
    "properties_df['Free energy of solution in water'] = aaindex1['CHAM820102']['values']\n",
    "properties_df['Solvation free energy'] = aaindex1['EISD860101']['values']\n",
    "properties_df['Melting point'] = aaindex1['FASG760102']['values']\n",
    "properties_df['Number of hydrogen-bond donors'] = aaindex1['FAUJ880109']['values']\n",
    "properties_df['Number of full nonbonding orbitals'] = aaindex1['FAUJ880110']['values']\n",
    "properties_df['Partition energy'] = aaindex1['GUYH850101']['values']\n",
    "properties_df['Hydration number'] = aaindex1['HOPA770101']['values']\n",
    "properties_df['Retention coefficient in HPLC pH 7.4'] = aaindex1['MEEJ800101']['values']\n",
    "properties_df['Retention coefficient in HPLC pH 2.1'] = aaindex1['MEEJ800102']['values']\n",
    "properties_df['Partition coefficient in thin-layer chromatography'] = aaindex1['PLIV810101']['values']\n",
    "properties_df['Retention coefficient at pH 2'] = aaindex1['GUOD860101']['values']\n",
    "\n",
    "properties_df['Average volume of buried residue'] = aaindex1['CHOC750101']['values']\n",
    "properties_df['Residue accessible surface area in tripeptide'] = aaindex1['CHOC760101']['values']\n",
    "properties_df['Graph shape index'] = aaindex1['FAUJ880101']['values']\n",
    "properties_df['Normalized Van der Waals volume'] = aaindex1['FAUJ880103']['values']\n",
    "properties_df['STERIMOL length of the side chain'] = aaindex1['FAUJ880104']['values']\n",
    "properties_df['STERIMOL minimum width of the side chain'] = aaindex1['FAUJ880105']['values']\n",
    "properties_df['STERIMOL maximum width of the side chain'] = aaindex1['FAUJ880106']['values']\n",
    "properties_df['Average accessible surface area'] = aaindex1['JANJ780101']['values']\n",
    "properties_df['Distance between C alpha and centroid of side chain'] = aaindex1['LEVM760102']['values']\n",
    "properties_df['Side-chain angle'] = aaindex1['LEVM760103']['values']\n",
    "properties_df['Side chain torsion angle'] = aaindex1['LEVM760104']['values']\n",
    "properties_df['Radius of gyration of side chain'] = aaindex1['LEVM760105']['values']\n",
    "properties_df['van der Waals parameter R0'] = aaindex1['LEVM760106']['values']\n",
    "properties_df['van der Waals parameter epsilon'] = aaindex1['LEVM760107']['values']\n",
    "properties_df['Value of theta i'] = aaindex1['RACS820113']['values']\n",
    "properties_df['Refractivity'] = aaindex1['MCMT640101']['values']\n",
    "\n",
    "properties_df['alpha CH chemical shifts'] = aaindex1['ANDN920101']['values']\n",
    "properties_df['alpha NH chemical shifts'] = aaindex1['BUNA790101']['values']\n",
    "properties_df['Charge transfer capability'] = aaindex1['CHAM830107']['values']\n",
    "properties_df['Charge transfer donor capability'] = aaindex1['CHAM830108']['values']\n",
    "properties_df['NMR chemical shift of alpha carbon'] = aaindex1['FAUJ880107']['values']\n",
    "properties_df['Localized electrical effect'] = aaindex1['FAUJ880108']['values']\n",
    "properties_df['Positive charge'] = aaindex1['FAUJ880111']['values']\n",
    "properties_df['Negative charge'] = aaindex1['FAUJ880112']['values']\n",
    "properties_df['Polarity'] = aaindex1['GRAR740102']['values']\n",
    "properties_df['Net charge'] = aaindex1['KLEP840101']['values']\n",
    "properties_df['Amphiphilicity index'] = aaindex1['MITS020101']['values']\n",
    "properties_df['Isoelectric point'] = aaindex1['ZIMJ680104']['values']\n",
    "properties_df['Electron-ion interaction potential values'] = aaindex1['COSI940101']['values']\n",
    "properties_df['pKNH2'] = aaindex1['FASG760104']['values']\n",
    "properties_df['pKCOOH'] = aaindex1['FASG760105']['values']\n",
    "\n",
    "properties_df = properties_df.drop(index='-')"
   ]
  },
  {
   "cell_type": "code",
   "execution_count": 18,
   "metadata": {},
   "outputs": [],
   "source": [
    "def cluster_by_property(df, property_column, n_clusters):\n",
    "    metric = pdist(df[property_column].values.reshape(-1, 1))\n",
    "    linkage = sch.linkage(metric, method=\"ward\")\n",
    "    clusters = sch.fcluster(linkage, n_clusters, criterion='maxclust')\n",
    "    cluster_labels = string.ascii_uppercase[:n_clusters]\n",
    "    \n",
    "    translation = {}\n",
    "    for i, amino_acid in enumerate(df.index):\n",
    "        cluster_index = clusters[i] - 1 \n",
    "        translation[amino_acid] = str(cluster_labels[cluster_index])\n",
    "    \n",
    "    return translation"
   ]
  },
  {
   "cell_type": "code",
   "execution_count": 19,
   "metadata": {},
   "outputs": [],
   "source": [
    "clusters_to_try = np.arange(2, 6)\n",
    "property_scores = pd.DataFrame(index= properties_df.columns, columns=[f'{i}_cluster_score' for i in clusters_to_try])\n",
    "property_scores['property_type'] = ['hydrophobic', 'hydrophobic', 'hydrophobic',\n",
    "                                    'hydrophobic', 'hydrophobic', 'hydrophobic',\n",
    "                                    'hydrophobic', 'hydrophobic', 'hydrophobic',\n",
    "                                    'hydrophobic', 'hydrophobic', 'hydrophobic',\n",
    "                                    'steric', 'steric', 'steric', 'steric', \n",
    "                                    'steric', 'steric', 'steric', 'steric',\n",
    "                                    'steric', 'steric', 'steric', 'steric',\n",
    "                                    'steric', 'steric', 'steric', 'steric',\n",
    "                                    'electronic', 'electronic', 'electronic', 'electronic', 'electronic',\n",
    "                                    'electronic', 'electronic', 'electronic', 'electronic', 'electronic',\n",
    "                                    'electronic', 'electronic', 'electronic', 'electronic', 'electronic']\n",
    "for n_clusters in clusters_to_try:\n",
    "    for prop in properties_df.columns:\n",
    "        clustered_translation = cluster_by_property(properties_df, prop, n_clusters)\n",
    "        property_scores.loc[prop, f'{n_clusters}_cluster_score'] = evaluate_translation(clustered_translation, spc, olga)"
   ]
  },
  {
   "cell_type": "markdown",
   "metadata": {},
   "source": [
    "## Combined plot"
   ]
  },
  {
   "cell_type": "code",
   "execution_count": 20,
   "metadata": {},
   "outputs": [
    {
     "data": {
      "text/plain": [
       "{'Polarity': 10.078065902570422,\n",
       " 'Solvation free energy': 11.19781892660139,\n",
       " 'Normalized Van der Waals volume': 13.95271270810091,\n",
       " 'Optimal': np.float64(15.490726127510566)}"
      ]
     },
     "execution_count": 20,
     "metadata": {},
     "output_type": "execute_result"
    }
   ],
   "source": [
    "values_to_plot = property_scores.loc[['Polarity', 'Solvation free energy', 'Normalized Van der Waals volume']]['2_cluster_score'].to_dict()\n",
    "values_to_plot['Optimal'] = evaluate_translation(optimal_2, spc, olga)\n",
    "values_to_plot"
   ]
  },
  {
   "cell_type": "code",
   "execution_count": 21,
   "metadata": {},
   "outputs": [
    {
     "data": {
      "image/png": "[encoded data removed]",
      "text/plain": [
       "<Figure size 1200x1800 with 3 Axes>"
      ]
     },
     "metadata": {},
     "output_type": "display_data"
    }
   ],
   "source": [
    "fig, ax = plt.subplots(3, 1, figsize=(12, 18))\n",
    "\n",
    "labels1 = ['CDR3$\\\\alpha$', 'BOW$\\\\alpha$', 'CDR3$\\\\beta$', 'BOW$\\\\beta$', '[CDR3$\\\\alpha$, \\n CDR3$\\\\beta$]', '[BOW$\\\\alpha$, \\n BOW$\\\\beta$]']\n",
    "values1 = [cdr3a_info, alpha_beta_grid[0][0], cdr3b_info, alpha_beta_grid[1][1], cdr3_info, alpha_beta_grid[0][1]]\n",
    "\n",
    "colors1 = ['C0', '#5fa2d6', 'C1', '#ff9d4d', 'C2', '#5bc85b']\n",
    "bars1 = ax[0].bar(labels1, values1, color=colors1, edgecolor='black')\n",
    "ax[0].set_ylabel('$I_2(X, \\Pi)$ [bits]')\n",
    "ax[0].text(-0.1, 1.1, '\\\\bf a)', transform=ax[0].transAxes, fontsize=20, fontweight='bold', va='top', ha='right')\n",
    "\n",
    "x_positions = [float(label.split('\\n')[1].strip()) for label in translation_scores.keys()]\n",
    "labels2 = [label.split('\\n')[0].strip() for label in translation_scores.keys()]\n",
    "values2 = list(translation_scores.values())\n",
    "colors = [f'C{i}' for i in range(len(values2))]\n",
    "scatter = ax[1].scatter(x_positions, values2, color=colors, edgecolor='black')\n",
    "\n",
    "for i, (x, y) in enumerate(zip(x_positions, values2)):\n",
    "    ax[1].text(x, y + 0.3, labels2[i], ha='center', va='bottom', fontsize=18)\n",
    "\n",
    "ax[1].set_ylabel('$I_2([R($CDR3$\\\\alpha), R($CDR3$\\\\beta)], \\Pi)$ [bits]')\n",
    "ax[1].set_xlabel('Alphabet size')\n",
    "ax[1].text(-0.1, 1.1, '\\\\bf b)', transform=ax[1].transAxes, fontsize=20, fontweight='bold', va='top', ha='right')\n",
    "\n",
    "labels3 = ['Polarity', 'Solvation \\n free energy', 'Normalized \\n Van der Waals  volume', 'Optimal']\n",
    "values3 = values_to_plot.values()\n",
    "\n",
    "bars3 = ax[2].bar(labels3, values3, color=['C0', 'C1', 'C2', 'C3'], edgecolor='black')\n",
    "ax[2].set_ylabel('$I_2([R($CDR3$\\\\alpha), R($CDR3$\\\\beta)], \\Pi)$ [bits]')\n",
    "ax[2].text(-0.1, 1.1, '\\\\bf c)', transform=ax[2].transAxes, fontsize=20, fontweight='bold', va='top', ha='right')\n",
    "plt.tight_layout()\n",
    "plt.savefig('figures/figure4.svg', bbox_inches='tight', dpi=500);"
   ]
  }
 ],
 "metadata": {
  "kernelspec": {
   "display_name": "tcr_info_paper_2023",
   "language": "python",
   "name": "python3"
  },
  "language_info": {
   "codemirror_mode": {
    "name": "ipython",
    "version": 3
   },
   "file_extension": ".py",
   "mimetype": "text/x-python",
   "name": "python",
   "nbconvert_exporter": "python",
   "pygments_lexer": "ipython3",
   "version": "3.10.13"
  }
 },
 "nbformat": 4,
 "nbformat_minor": 2
}
